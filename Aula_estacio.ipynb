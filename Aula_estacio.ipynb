{
  "nbformat": 4,
  "nbformat_minor": 0,
  "metadata": {
    "colab": {
      "provenance": [],
      "authorship_tag": "ABX9TyMnkFLPD9iPgUcRO0i301kI",
      "include_colab_link": true
    },
    "kernelspec": {
      "name": "python3",
      "display_name": "Python 3"
    },
    "language_info": {
      "name": "python"
    }
  },
  "cells": [
    {
      "cell_type": "markdown",
      "metadata": {
        "id": "view-in-github",
        "colab_type": "text"
      },
      "source": [
        "<a href=\"https://colab.research.google.com/github/Topsond/repo-local/blob/main/Aula_estacio.ipynb\" target=\"_parent\"><img src=\"https://colab.research.google.com/assets/colab-badge.svg\" alt=\"Open In Colab\"/></a>"
      ]
    },
    {
      "cell_type": "markdown",
      "source": [
        "# Testando códigos\n"
      ],
      "metadata": {
        "id": "GQjScDm6E8uO"
      }
    },
    {
      "cell_type": "code",
      "source": [
        "lista = [5, 10 ,20]\n",
        "soma = sum(lista)\n",
        "assert soma == 35, 'Aguardando sucesso.'\n",
        "assert soma != 35, \"Aguardando erro.\"\n"
      ],
      "metadata": {
        "id": "eVU9tKV3FOF2"
      },
      "execution_count": null,
      "outputs": []
    },
    {
      "cell_type": "code",
      "source": [
        "lista = [0, 2, 4, 6, 7, 8, 9]\n",
        "for numero in lista:\n",
        "    assert numero % 2 == 0, \"Número ímpar encontrado! ->\" + str(numero)\n",
        ""
      ],
      "metadata": {
        "id": "2NfqoUn0HJ64"
      },
      "execution_count": null,
      "outputs": []
    },
    {
      "cell_type": "markdown",
      "source": [
        "# Funções em Python\n",
        "\n",
        "\n"
      ],
      "metadata": {
        "id": "8ysWTpb3JKs9"
      }
    },
    {
      "cell_type": "code",
      "source": [],
      "metadata": {
        "id": "-_FCwaGoJYl1"
      },
      "execution_count": null,
      "outputs": []
    },
    {
      "cell_type": "markdown",
      "source": [
        "### Criando uma função sem parâmetro (`def nome():`) e chamando a função (`nome()`)"
      ],
      "metadata": {
        "id": "soncFqdTT_Qv"
      }
    },
    {
      "cell_type": "code",
      "source": [
        "def hello():\n",
        "    print('Olá')\n",
        "    print('Mundo!!!')\n",
        "hello()\n",
        "print('Fim do programa.')\n"
      ],
      "metadata": {
        "colab": {
          "base_uri": "https://localhost:8080/"
        },
        "id": "9tE4Z87_UA_3",
        "outputId": "ec880513-9c13-46d6-c40a-ee043ce6da49"
      },
      "execution_count": 9,
      "outputs": [
        {
          "output_type": "stream",
          "name": "stdout",
          "text": [
            "Olá\n",
            "Mundo!!!\n",
            "Fim do programa.\n"
          ]
        }
      ]
    },
    {
      "cell_type": "markdown",
      "source": [
        "### Definir uma função com parâmetros"
      ],
      "metadata": {
        "id": "51CtAGuPTevH"
      }
    },
    {
      "cell_type": "code",
      "source": [
        "'''\n",
        "def nome(parametro1, paraqmetro2......)\n",
        "    Linha1.....\n",
        "    Linha2.....\n",
        "    .........\n",
        "    Linha N......\n",
        "'''\n",
        "def calcula_imc(peso, altura):\n",
        "    print(f'Parâmetro peso: {peso} Kg')\n",
        "    print(f'Parâmetro altura: {altura} m')\n",
        "    imc = peso/altura**2\n",
        "    print(f\"IMC: {imc}\")\n",
        "\n",
        "  # Início do programa\n",
        "print('Início do programa.')\n",
        "calcula_imc(70, 1.88)\n",
        "print('Términio do programa.')"
      ],
      "metadata": {
        "colab": {
          "base_uri": "https://localhost:8080/"
        },
        "id": "zkOqBNWYUKa_",
        "outputId": "1b152044-3b34-45c1-d090-e7c78bbfe63b"
      },
      "execution_count": 13,
      "outputs": [
        {
          "output_type": "stream",
          "name": "stdout",
          "text": [
            "Início do programa.\n",
            "Parâmetro peso: 70 Kg\n",
            "Parâmetro altura: 1.88 m\n",
            "IMC: 19.805341783612494\n",
            "Términio do programa.\n"
          ]
        }
      ]
    }
  ]
}